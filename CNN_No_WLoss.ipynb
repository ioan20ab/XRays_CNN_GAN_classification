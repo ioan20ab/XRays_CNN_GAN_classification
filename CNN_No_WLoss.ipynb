{
 "cells": [
  {
   "cell_type": "code",
   "execution_count": 3,
   "metadata": {},
   "outputs": [],
   "source": [
    "import tensorflow as tf\n",
    "from tensorflow import keras"
   ]
  },
  {
   "cell_type": "code",
   "execution_count": 4,
   "metadata": {},
   "outputs": [
    {
     "name": "stdout",
     "output_type": "stream",
     "text": [
      "Num GPUs Available:  1\n"
     ]
    }
   ],
   "source": [
    "print(\"Num GPUs Available: \", len(tf.config.experimental.list_physical_devices('GPU')))"
   ]
  },
  {
   "cell_type": "code",
   "execution_count": 5,
   "metadata": {},
   "outputs": [
    {
     "data": {
      "text/plain": [
       "True"
      ]
     },
     "execution_count": 5,
     "metadata": {},
     "output_type": "execute_result"
    }
   ],
   "source": [
    "tf.test.is_built_with_cuda()"
   ]
  },
  {
   "cell_type": "code",
   "execution_count": 6,
   "metadata": {},
   "outputs": [
    {
     "name": "stdout",
     "output_type": "stream",
     "text": [
      "2.3.0\n"
     ]
    }
   ],
   "source": [
    "print(tf.version.VERSION)"
   ]
  },
  {
   "cell_type": "code",
   "execution_count": 7,
   "metadata": {},
   "outputs": [
    {
     "data": {
      "text/plain": [
       "'3.7.13 (default, Mar 28 2022, 08:03:21) [MSC v.1916 64 bit (AMD64)]'"
      ]
     },
     "execution_count": 7,
     "metadata": {},
     "output_type": "execute_result"
    }
   ],
   "source": [
    "import sys\n",
    "sys.version"
   ]
  },
  {
   "cell_type": "code",
   "execution_count": 8,
   "metadata": {},
   "outputs": [
    {
     "name": "stdout",
     "output_type": "stream",
     "text": [
      "2.4.0\n"
     ]
    }
   ],
   "source": [
    "print(keras.__version__)"
   ]
  },
  {
   "cell_type": "code",
   "execution_count": 19,
   "metadata": {},
   "outputs": [],
   "source": [
    "import numpy as np # linear algebra\n",
    "import pandas as pd # data processing, CSV file I/O (e.g. pd.read_csv)\n",
    "import matplotlib.pyplot as plt\n",
    "import seaborn as sns\n",
    "\n",
    "from tqdm import tqdm\n",
    "from glob import glob\n",
    "import os\n",
    "import matplotlib.gridspec as gridspec\n",
    "import matplotlib.ticker as ticker\n",
    "sns.set_style('whitegrid')\n",
    "%matplotlib inline\n",
    "import warnings\n",
    "warnings.filterwarnings('ignore')"
   ]
  },
  {
   "cell_type": "code",
   "execution_count": 20,
   "metadata": {},
   "outputs": [],
   "source": [
    "IMAGE_SIZE=[128, 128]\n",
    "EPOCHS = 20\n",
    "BATCH_SIZE = 64"
   ]
  },
  {
   "cell_type": "code",
   "execution_count": 21,
   "metadata": {},
   "outputs": [
    {
     "data": {
      "text/plain": [
       "Index(['Cardiomegaly', 'Emphysema', 'Effusion', 'Hernia', 'Infiltration',\n",
       "       'Mass', 'Nodule', 'Atelectasis', 'Pneumothorax', 'Pleural_Thickening',\n",
       "       'Pneumonia', 'Fibrosis', 'Edema', 'Consolidation'],\n",
       "      dtype='object')"
      ]
     },
     "execution_count": 21,
     "metadata": {},
     "output_type": "execute_result"
    }
   ],
   "source": [
    "pth = 'E:/_DOWNLOADED/'\n",
    "img_pth = 'E:/_DOWNLOADED/archive/'\n",
    "\n",
    "train_df_main  = pd.read_csv(os.path.join(pth, 'train_df.csv'))\n",
    "\n",
    "\n",
    "train_df_main .drop(['No Finding'], axis = 1, inplace = True)\n",
    "labels = train_df_main .columns[2:-1]\n",
    "labels"
   ]
  },
  {
   "cell_type": "code",
   "execution_count": 22,
   "metadata": {},
   "outputs": [
    {
     "data": {
      "text/plain": [
       "82518     E:/_DOWNLOADED/archive/images_009/images/00020...\n",
       "38695     E:/_DOWNLOADED/archive/images_005/images/00010...\n",
       "31177     E:/_DOWNLOADED/archive/images_004/images/00008...\n",
       "39973     E:/_DOWNLOADED/archive/images_005/images/00010...\n",
       "21796     E:/_DOWNLOADED/archive/images_003/images/00005...\n",
       "81447     E:/_DOWNLOADED/archive/images_009/images/00020...\n",
       "67768     E:/_DOWNLOADED/archive/images_008/images/00016...\n",
       "23099     E:/_DOWNLOADED/archive/images_003/images/00006...\n",
       "85345     E:/_DOWNLOADED/archive/images_010/images/00021...\n",
       "101484    E:/_DOWNLOADED/archive/images_011/images/00026...\n",
       "Name: FilePath, dtype: object"
      ]
     },
     "execution_count": 22,
     "metadata": {},
     "output_type": "execute_result"
    }
   ],
   "source": [
    "train_df_main['FilePath'] = train_df_main['FilePath'].str.replace('../input/data','E:/_DOWNLOADED/archive')\n",
    "train_df_main['FilePath'].sample(10)"
   ]
  },
  {
   "cell_type": "code",
   "execution_count": 23,
   "metadata": {},
   "outputs": [],
   "source": [
    "from sklearn.model_selection import train_test_split\n",
    "train_df, discard = train_test_split(train_df_main, test_size = 0.7, random_state = 1993)\n",
    "\n",
    "train_and_valid_set, test_set = train_test_split(train_df, test_size = 0.2, random_state = 1993)\n",
    "train_set, valid_set = train_test_split(train_and_valid_set, test_size = 0.2, random_state = 1993)"
   ]
  },
  {
   "cell_type": "code",
   "execution_count": 24,
   "metadata": {},
   "outputs": [],
   "source": [
    "from keras.preprocessing.image import ImageDataGenerator\n",
    "from keras.applications.densenet import DenseNet121\n",
    "from keras.layers import Dense, GlobalAveragePooling2D\n",
    "from keras.models import Model\n",
    "\n",
    "from keras.models import load_model\n",
    "import tensorflow.keras.layers as L"
   ]
  },
  {
   "cell_type": "code",
   "execution_count": 26,
   "metadata": {},
   "outputs": [],
   "source": [
    "def get_train_generator(df, image_dir, x_col, y_cols, shuffle=True, batch_size=8, seed=1, target_w = 320, target_h = 320):\n",
    "   \n",
    "    print(\"getting train generator...\")\n",
    "    # normalize images\n",
    "    image_generator = ImageDataGenerator(\n",
    "        samplewise_center=True,\n",
    "        samplewise_std_normalization= True, \n",
    "        shear_range=0.1,\n",
    "        zoom_range=0.15,\n",
    "        rotation_range=5,\n",
    "        width_shift_range=0.1,\n",
    "        height_shift_range=0.05,\n",
    "        horizontal_flip=True, \n",
    "        vertical_flip = False, \n",
    "        fill_mode = 'reflect')\n",
    "    \n",
    "    \n",
    "    # flow from directory with specified batch size\n",
    "    # and target image size\n",
    "    generator = image_generator.flow_from_dataframe(\n",
    "            dataframe=df,\n",
    "            directory=None,\n",
    "            x_col=x_col,\n",
    "            y_col=y_cols,\n",
    "            class_mode=\"raw\",\n",
    "            batch_size=batch_size,\n",
    "            shuffle=shuffle,\n",
    "            seed=seed,\n",
    "            target_size=(target_w,target_h))\n",
    "    \n",
    "    return generator"
   ]
  },
  {
   "cell_type": "code",
   "execution_count": 27,
   "metadata": {},
   "outputs": [],
   "source": [
    "def get_test_and_valid_generator(valid_df, test_df, train_df, image_dir, x_col, y_cols, sample_size=100, batch_size=8, seed=1, target_w = 320, target_h = 320):\n",
    "\n",
    "    print(\"getting train and valid generators...\")\n",
    "    # get generator to sample dataset\n",
    "    raw_train_generator = ImageDataGenerator().flow_from_dataframe(\n",
    "        dataframe=train_df, \n",
    "        directory=image_dir, \n",
    "        x_col=\"FilePath\", \n",
    "        y_col=labels, \n",
    "        class_mode=\"raw\", \n",
    "        batch_size=sample_size, \n",
    "        shuffle=True, \n",
    "        target_size=(target_w, target_h))\n",
    "    \n",
    "    # get data sample\n",
    "    batch = raw_train_generator.next()\n",
    "    data_sample = batch[0]\n",
    "\n",
    "    # use sample to fit mean and std for test set generator\n",
    "    image_generator = ImageDataGenerator(\n",
    "        featurewise_center=True,\n",
    "        featurewise_std_normalization= True)\n",
    "    \n",
    "    # fit generator to sample from training data\n",
    "    image_generator.fit(data_sample)\n",
    "\n",
    "    # get test generator\n",
    "    valid_generator = image_generator.flow_from_dataframe(\n",
    "            dataframe=valid_df,\n",
    "            directory=image_dir,\n",
    "            x_col=x_col,\n",
    "            y_col=y_cols,\n",
    "            class_mode=\"raw\",\n",
    "            batch_size=batch_size,\n",
    "            shuffle=False,\n",
    "            seed=seed,\n",
    "            target_size=(target_w,target_h))\n",
    "\n",
    "    test_generator = image_generator.flow_from_dataframe(\n",
    "            dataframe=test_df,\n",
    "            directory=image_dir,\n",
    "            x_col=x_col,\n",
    "            y_col=y_cols,\n",
    "            class_mode=\"raw\",\n",
    "            batch_size=batch_size,\n",
    "            shuffle=False,\n",
    "            seed=seed,\n",
    "            target_size=(target_w,target_h))\n",
    "    return valid_generator, test_generator"
   ]
  },
  {
   "cell_type": "code",
   "execution_count": 28,
   "metadata": {},
   "outputs": [
    {
     "name": "stdout",
     "output_type": "stream",
     "text": [
      "getting train generator...\n",
      "Found 21526 validated image filenames.\n",
      "getting train and valid generators...\n",
      "Found 21526 validated image filenames.\n",
      "Found 5382 validated image filenames.\n",
      "Found 6728 validated image filenames.\n"
     ]
    }
   ],
   "source": [
    "train_generator = get_train_generator(df = train_set,\n",
    "                                      image_dir = None, \n",
    "                                      x_col = \"FilePath\",\n",
    "                                      y_cols = labels, \n",
    "                                      batch_size=BATCH_SIZE,\n",
    "                                      target_w = IMAGE_SIZE[0], \n",
    "                                      target_h = IMAGE_SIZE[1] \n",
    "                                      )\n",
    "\n",
    "valid_generator, test_generator= get_test_and_valid_generator(valid_df = valid_set, \n",
    "                                                              test_df = test_set, \n",
    "                                                              train_df = train_set,\n",
    "                                                              image_dir = None, \n",
    "                                                              x_col = \"FilePath\", \n",
    "                                                              y_cols = labels,\n",
    "                                                              batch_size = BATCH_SIZE,\n",
    "                                                              target_w = IMAGE_SIZE[0], \n",
    "                                                              target_h = IMAGE_SIZE[1])\n"
   ]
  },
  {
   "cell_type": "code",
   "execution_count": 6,
   "metadata": {},
   "outputs": [],
   "source": [
    "from tensorflow import keras\n",
    "keras.backend.clear_session()"
   ]
  },
  {
   "cell_type": "code",
   "execution_count": 3,
   "metadata": {},
   "outputs": [],
   "source": [
    "# from tensorflow.keras.applications import ResNet50\n",
    "# res_model = ResNet50()\n",
    "# res_model.summary()"
   ]
  },
  {
   "cell_type": "code",
   "execution_count": 29,
   "metadata": {},
   "outputs": [],
   "source": [
    "from tensorflow.keras import datasets, layers, models\n",
    "from tensorflow.keras.layers import Dropout\n",
    "\n",
    "model = models.Sequential()\n",
    "model.add(layers.Conv2D(64, (3, 3), activation='relu', input_shape=(128, 128, 3),padding=\"same\"))\n",
    "model.add(layers.MaxPooling2D((2, 2)))\n",
    "\n",
    "model.add(layers.Conv2D(64,(3, 3), activation='relu'))\n",
    "model.add(layers.MaxPooling2D((2, 2)))\n",
    "# model.add(Dropout(0.2))\n"
   ]
  },
  {
   "cell_type": "code",
   "execution_count": 30,
   "metadata": {},
   "outputs": [
    {
     "name": "stdout",
     "output_type": "stream",
     "text": [
      "Model: \"sequential_1\"\n",
      "_________________________________________________________________\n",
      "Layer (type)                 Output Shape              Param #   \n",
      "=================================================================\n",
      "conv2d_2 (Conv2D)            (None, 128, 128, 64)      1792      \n",
      "_________________________________________________________________\n",
      "max_pooling2d_2 (MaxPooling2 (None, 64, 64, 64)        0         \n",
      "_________________________________________________________________\n",
      "conv2d_3 (Conv2D)            (None, 62, 62, 64)        36928     \n",
      "_________________________________________________________________\n",
      "max_pooling2d_3 (MaxPooling2 (None, 31, 31, 64)        0         \n",
      "=================================================================\n",
      "Total params: 38,720\n",
      "Trainable params: 38,720\n",
      "Non-trainable params: 0\n",
      "_________________________________________________________________\n"
     ]
    }
   ],
   "source": [
    "model.summary()"
   ]
  },
  {
   "cell_type": "code",
   "execution_count": 31,
   "metadata": {},
   "outputs": [],
   "source": [
    "model.add(layers.Flatten())\n",
    "model.add(layers.Dense(64, activation='relu'))\n",
    "model.add(Dropout(0.2))\n",
    "model.add(layers.Dense(32, activation='relu'))\n",
    "model.add(Dropout(0.2))\n",
    "model.add(layers.Dense(14))"
   ]
  },
  {
   "cell_type": "code",
   "execution_count": 32,
   "metadata": {},
   "outputs": [
    {
     "name": "stdout",
     "output_type": "stream",
     "text": [
      "Model: \"sequential_1\"\n",
      "_________________________________________________________________\n",
      "Layer (type)                 Output Shape              Param #   \n",
      "=================================================================\n",
      "conv2d_2 (Conv2D)            (None, 128, 128, 64)      1792      \n",
      "_________________________________________________________________\n",
      "max_pooling2d_2 (MaxPooling2 (None, 64, 64, 64)        0         \n",
      "_________________________________________________________________\n",
      "conv2d_3 (Conv2D)            (None, 62, 62, 64)        36928     \n",
      "_________________________________________________________________\n",
      "max_pooling2d_3 (MaxPooling2 (None, 31, 31, 64)        0         \n",
      "_________________________________________________________________\n",
      "flatten_1 (Flatten)          (None, 61504)             0         \n",
      "_________________________________________________________________\n",
      "dense_3 (Dense)              (None, 64)                3936320   \n",
      "_________________________________________________________________\n",
      "dropout_2 (Dropout)          (None, 64)                0         \n",
      "_________________________________________________________________\n",
      "dense_4 (Dense)              (None, 32)                2080      \n",
      "_________________________________________________________________\n",
      "dropout_3 (Dropout)          (None, 32)                0         \n",
      "_________________________________________________________________\n",
      "dense_5 (Dense)              (None, 14)                462       \n",
      "=================================================================\n",
      "Total params: 3,977,582\n",
      "Trainable params: 3,977,582\n",
      "Non-trainable params: 0\n",
      "_________________________________________________________________\n"
     ]
    }
   ],
   "source": [
    "model.summary()"
   ]
  },
  {
   "cell_type": "code",
   "execution_count": 33,
   "metadata": {},
   "outputs": [
    {
     "name": "stdout",
     "output_type": "stream",
     "text": [
      "Epoch 1/12\n",
      "  1/337 [..............................] - ETA: 0s - loss: 4.7456 - accuracy: 0.0781WARNING:tensorflow:Callbacks method `on_train_batch_end` is slow compared to the batch time (batch time: 0.0110s vs `on_train_batch_end` time: 0.0196s). Check your callbacks.\n",
      "337/337 [==============================] - 433s 1s/step - loss: 6.3284 - accuracy: 0.0148 - val_loss: 6.4628 - val_accuracy: 0.0227\n",
      "Epoch 2/12\n",
      "337/337 [==============================] - 403s 1s/step - loss: 6.8134 - accuracy: 0.0128 - val_loss: 3.7166 - val_accuracy: 0.0098\n",
      "Epoch 3/12\n",
      "337/337 [==============================] - 402s 1s/step - loss: 4.4553 - accuracy: 0.0277 - val_loss: 3.7166 - val_accuracy: 0.0227\n",
      "Epoch 4/12\n",
      "337/337 [==============================] - 400s 1s/step - loss: 3.7711 - accuracy: 0.0259 - val_loss: 3.7166 - val_accuracy: 0.0227\n",
      "Epoch 5/12\n",
      "337/337 [==============================] - 392s 1s/step - loss: 5.2236 - accuracy: 0.0264 - val_loss: 8.5442 - val_accuracy: 0.0227\n",
      "Epoch 6/12\n",
      "337/337 [==============================] - 504s 1s/step - loss: 7.3130 - accuracy: 0.0245 - val_loss: 8.5442 - val_accuracy: 0.0227\n",
      "Epoch 7/12\n",
      "337/337 [==============================] - 401s 1s/step - loss: 6.6958 - accuracy: 0.0253 - val_loss: 8.5442 - val_accuracy: 0.0227\n",
      "Epoch 8/12\n",
      "337/337 [==============================] - 393s 1s/step - loss: 5.4953 - accuracy: 0.0256 - val_loss: 3.4860 - val_accuracy: 0.0227\n",
      "Epoch 9/12\n",
      "337/337 [==============================] - 387s 1s/step - loss: 5.6615 - accuracy: 0.0243 - val_loss: 3.4860 - val_accuracy: 0.0227\n",
      "Epoch 10/12\n",
      "337/337 [==============================] - 437s 1s/step - loss: 7.1397 - accuracy: 0.0257 - val_loss: 3.4860 - val_accuracy: 0.0227\n",
      "Epoch 11/12\n",
      "337/337 [==============================] - 394s 1s/step - loss: 7.6083 - accuracy: 0.0259 - val_loss: 3.4860 - val_accuracy: 0.0227\n",
      "Epoch 12/12\n",
      "337/337 [==============================] - 389s 1s/step - loss: 6.5198 - accuracy: 0.0255 - val_loss: 3.4860 - val_accuracy: 0.0227\n"
     ]
    }
   ],
   "source": [
    "optimizer = keras.optimizers.Adam(lr=0.01)\n",
    "\n",
    "model.compile(optimizer=optimizer,\n",
    "#               loss=tf.keras.losses.SparseCategoricalCrossentropy(from_logits=True),\n",
    "              loss='categorical_crossentropy',\n",
    "              metrics=['accuracy'])\n",
    "\n",
    "history = model.fit(train_generator, epochs=12,\n",
    "                    validation_data=valid_generator)"
   ]
  },
  {
   "cell_type": "code",
   "execution_count": 36,
   "metadata": {},
   "outputs": [
    {
     "data": {
      "image/png": "[encoded data removed]",
      "text/plain": [
       "<Figure size 432x288 with 1 Axes>"
      ]
     },
     "metadata": {
      "needs_background": "light"
     },
     "output_type": "display_data"
    }
   ],
   "source": [
    "import matplotlib.pyplot as plt\n",
    "plt.plot(history.history['accuracy'], label='accuracy')\n",
    "plt.plot(history.history['val_accuracy'], label = 'val_accuracy')\n",
    "plt.xlabel('Epoch')\n",
    "plt.ylabel('Accuracy')\n",
    "plt.ylim([0.0, 0.05])\n",
    "plt.legend(loc='lower right')\n",
    "plt.tight_layout()"
   ]
  },
  {
   "cell_type": "code",
   "execution_count": 37,
   "metadata": {},
   "outputs": [
    {
     "name": "stdout",
     "output_type": "stream",
     "text": [
      "106/106 - 97s - loss: 3.5097 - accuracy: 0.0226\n"
     ]
    }
   ],
   "source": [
    "test_loss, test_acc = model.evaluate(test_generator, verbose=2)"
   ]
  },
  {
   "cell_type": "code",
   "execution_count": null,
   "metadata": {},
   "outputs": [],
   "source": []
  }
 ],
 "metadata": {
  "kernelspec": {
   "display_name": "Python 3",
   "language": "python",
   "name": "python3"
  },
  "language_info": {
   "codemirror_mode": {
    "name": "ipython",
    "version": 3
   },
   "file_extension": ".py",
   "mimetype": "text/x-python",
   "name": "python",
   "nbconvert_exporter": "python",
   "pygments_lexer": "ipython3",
   "version": "3.8.3"
  }
 },
 "nbformat": 4,
 "nbformat_minor": 4
}
