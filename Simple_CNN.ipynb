{
 "cells": [
  {
   "cell_type": "code",
   "execution_count": 3,
   "metadata": {},
   "outputs": [],
   "source": [
    "import tensorflow as tf\n",
    "from tensorflow import keras"
   ]
  },
  {
   "cell_type": "code",
   "execution_count": 4,
   "metadata": {},
   "outputs": [
    {
     "name": "stdout",
     "output_type": "stream",
     "text": [
      "Num GPUs Available:  1\n"
     ]
    }
   ],
   "source": [
    "print(\"Num GPUs Available: \", len(tf.config.experimental.list_physical_devices('GPU')))"
   ]
  },
  {
   "cell_type": "code",
   "execution_count": 5,
   "metadata": {},
   "outputs": [
    {
     "data": {
      "text/plain": [
       "True"
      ]
     },
     "execution_count": 5,
     "metadata": {},
     "output_type": "execute_result"
    }
   ],
   "source": [
    "tf.test.is_built_with_cuda()"
   ]
  },
  {
   "cell_type": "code",
   "execution_count": 6,
   "metadata": {},
   "outputs": [
    {
     "name": "stdout",
     "output_type": "stream",
     "text": [
      "2.3.0\n"
     ]
    }
   ],
   "source": [
    "print(tf.version.VERSION)"
   ]
  },
  {
   "cell_type": "code",
   "execution_count": 7,
   "metadata": {},
   "outputs": [
    {
     "data": {
      "text/plain": [
       "'3.7.13 (default, Mar 28 2022, 08:03:21) [MSC v.1916 64 bit (AMD64)]'"
      ]
     },
     "execution_count": 7,
     "metadata": {},
     "output_type": "execute_result"
    }
   ],
   "source": [
    "import sys\n",
    "sys.version"
   ]
  },
  {
   "cell_type": "code",
   "execution_count": 8,
   "metadata": {},
   "outputs": [
    {
     "name": "stdout",
     "output_type": "stream",
     "text": [
      "2.4.0\n"
     ]
    }
   ],
   "source": [
    "print(keras.__version__)"
   ]
  },
  {
   "cell_type": "code",
   "execution_count": 3,
   "metadata": {},
   "outputs": [],
   "source": [
    "import tensorflow as tf\n",
    "from tensorflow import keras\n",
    "from tensorflow.keras.callbacks import LearningRateScheduler\n",
    "\n",
    "import numpy as np # linear algebra\n",
    "import pandas as pd # data processing, CSV file I/O (e.g. pd.read_csv)\n",
    "import matplotlib.pyplot as plt\n",
    "import seaborn as sns\n",
    "\n",
    "from tqdm import tqdm\n",
    "from glob import glob\n",
    "import os\n",
    "import matplotlib.gridspec as gridspec\n",
    "import matplotlib.ticker as ticker\n",
    "sns.set_style('whitegrid')\n",
    "%matplotlib inline\n",
    "import warnings\n",
    "warnings.filterwarnings('ignore')"
   ]
  },
  {
   "cell_type": "code",
   "execution_count": 4,
   "metadata": {},
   "outputs": [],
   "source": [
    "IMAGE_SIZE=[128, 128]\n",
    "EPOCHS = 20\n",
    "# BATCH_SIZE = 8 * strategy.num_replicas_in_sync\n",
    "BATCH_SIZE = 64"
   ]
  },
  {
   "cell_type": "code",
   "execution_count": 5,
   "metadata": {},
   "outputs": [
    {
     "data": {
      "text/plain": [
       "Index(['Cardiomegaly', 'Emphysema', 'Effusion', 'Hernia', 'Infiltration',\n",
       "       'Mass', 'Nodule', 'Atelectasis', 'Pneumothorax', 'Pleural_Thickening',\n",
       "       'Pneumonia', 'Fibrosis', 'Edema', 'Consolidation'],\n",
       "      dtype='object')"
      ]
     },
     "execution_count": 5,
     "metadata": {},
     "output_type": "execute_result"
    }
   ],
   "source": [
    "pth = 'E:/_DOWNLOADED/'\n",
    "img_pth = 'E:/_DOWNLOADED/archive/'\n",
    "\n",
    "train_df_main  = pd.read_csv(os.path.join(pth, 'train_df.csv'))\n",
    "\n",
    "\n",
    "train_df_main .drop(['No Finding'], axis = 1, inplace = True)\n",
    "labels = train_df_main .columns[2:-1]\n",
    "labels"
   ]
  },
  {
   "cell_type": "code",
   "execution_count": 6,
   "metadata": {},
   "outputs": [
    {
     "data": {
      "text/plain": [
       "2221     E:/_DOWNLOADED/archive/images_001/images/00000...\n",
       "10626    E:/_DOWNLOADED/archive/images_002/images/00002...\n",
       "93097    E:/_DOWNLOADED/archive/images_010/images/00023...\n",
       "69204    E:/_DOWNLOADED/archive/images_008/images/00017...\n",
       "36126    E:/_DOWNLOADED/archive/images_005/images/00009...\n",
       "80292    E:/_DOWNLOADED/archive/images_009/images/00019...\n",
       "97419    E:/_DOWNLOADED/archive/images_011/images/00025...\n",
       "20590    E:/_DOWNLOADED/archive/images_003/images/00005...\n",
       "48117    E:/_DOWNLOADED/archive/images_006/images/00012...\n",
       "53733    E:/_DOWNLOADED/archive/images_006/images/00013...\n",
       "Name: FilePath, dtype: object"
      ]
     },
     "execution_count": 6,
     "metadata": {},
     "output_type": "execute_result"
    }
   ],
   "source": [
    "train_df_main['FilePath'] = train_df_main['FilePath'].str.replace('../input/data','E:/_DOWNLOADED/archive')\n",
    "train_df_main['FilePath'].sample(10)"
   ]
  },
  {
   "cell_type": "code",
   "execution_count": 7,
   "metadata": {},
   "outputs": [],
   "source": [
    "from sklearn.model_selection import train_test_split\n",
    "train_df, discard = train_test_split(train_df_main, test_size = 0.7, random_state = 1993)\n",
    "\n",
    "train_and_valid_set, test_set = train_test_split(train_df, test_size = 0.2, random_state = 1993)\n",
    "train_set, valid_set = train_test_split(train_and_valid_set, test_size = 0.2, random_state = 1993)"
   ]
  },
  {
   "cell_type": "code",
   "execution_count": 8,
   "metadata": {},
   "outputs": [
    {
     "name": "stderr",
     "output_type": "stream",
     "text": [
      "Using TensorFlow backend.\n"
     ]
    }
   ],
   "source": [
    "from keras.preprocessing.image import ImageDataGenerator\n",
    "from keras.applications.densenet import DenseNet121\n",
    "from keras.layers import Dense, GlobalAveragePooling2D\n",
    "from keras.models import Model\n",
    "\n",
    "from keras.models import load_model\n",
    "import tensorflow.keras.layers as L"
   ]
  },
  {
   "cell_type": "code",
   "execution_count": 9,
   "metadata": {},
   "outputs": [],
   "source": [
    "def get_train_generator(df, image_dir, x_col, y_cols, shuffle=True, batch_size=8, seed=1, target_w = 320, target_h = 320):\n",
    "      \n",
    "    print(\"getting train generator...\")\n",
    "    # normalize images\n",
    "    image_generator = ImageDataGenerator(\n",
    "        samplewise_center=True,\n",
    "        samplewise_std_normalization= True, \n",
    "        shear_range=0.1,\n",
    "        zoom_range=0.15,\n",
    "        rotation_range=5,\n",
    "        width_shift_range=0.1,\n",
    "        height_shift_range=0.05,\n",
    "        horizontal_flip=True, \n",
    "        vertical_flip = False, \n",
    "        fill_mode = 'reflect')\n",
    "    \n",
    "    \n",
    "    # flow from directory with specified batch size\n",
    "    # and target image size\n",
    "    generator = image_generator.flow_from_dataframe(\n",
    "            dataframe=df,\n",
    "            directory=None,\n",
    "            x_col=x_col,\n",
    "            y_col=y_cols,\n",
    "            class_mode=\"raw\",\n",
    "            batch_size=batch_size,\n",
    "            shuffle=shuffle,\n",
    "            seed=seed,\n",
    "            target_size=(target_w,target_h))\n",
    "    \n",
    "    return generator"
   ]
  },
  {
   "cell_type": "code",
   "execution_count": 10,
   "metadata": {},
   "outputs": [],
   "source": [
    "def get_test_and_valid_generator(valid_df, test_df, train_df, image_dir, x_col, y_cols, sample_size=100, batch_size=8, seed=1, target_w = 320, target_h = 320):\n",
    "\n",
    "    print(\"getting train and valid generators...\")\n",
    "    # get generator to sample dataset\n",
    "    raw_train_generator = ImageDataGenerator().flow_from_dataframe(\n",
    "        dataframe=train_df, \n",
    "        directory=image_dir, \n",
    "        x_col=\"FilePath\", \n",
    "        y_col=labels, \n",
    "        class_mode=\"raw\", \n",
    "        batch_size=sample_size, \n",
    "        shuffle=True, \n",
    "        target_size=(target_w, target_h))\n",
    "    \n",
    "    # get data sample\n",
    "    batch = raw_train_generator.next()\n",
    "    data_sample = batch[0]\n",
    "\n",
    "    # use sample to fit mean and std for test set generator\n",
    "    image_generator = ImageDataGenerator(\n",
    "        featurewise_center=True,\n",
    "        featurewise_std_normalization= True)\n",
    "    \n",
    "    # fit generator to sample from training data\n",
    "    image_generator.fit(data_sample)\n",
    "\n",
    "    # get test generator\n",
    "    valid_generator = image_generator.flow_from_dataframe(\n",
    "            dataframe=valid_df,\n",
    "            directory=image_dir,\n",
    "            x_col=x_col,\n",
    "            y_col=y_cols,\n",
    "            class_mode=\"raw\",\n",
    "            batch_size=batch_size,\n",
    "            shuffle=False,\n",
    "            seed=seed,\n",
    "            target_size=(target_w,target_h))\n",
    "\n",
    "    test_generator = image_generator.flow_from_dataframe(\n",
    "            dataframe=test_df,\n",
    "            directory=image_dir,\n",
    "            x_col=x_col,\n",
    "            y_col=y_cols,\n",
    "            class_mode=\"raw\",\n",
    "            batch_size=batch_size,\n",
    "            shuffle=False,\n",
    "            seed=seed,\n",
    "            target_size=(target_w,target_h))\n",
    "    return valid_generator, test_generator"
   ]
  },
  {
   "cell_type": "code",
   "execution_count": 11,
   "metadata": {},
   "outputs": [
    {
     "name": "stdout",
     "output_type": "stream",
     "text": [
      "getting train generator...\n",
      "Found 21526 validated image filenames.\n",
      "getting train and valid generators...\n",
      "Found 21526 validated image filenames.\n",
      "Found 5382 validated image filenames.\n",
      "Found 6728 validated image filenames.\n"
     ]
    }
   ],
   "source": [
    "train_generator = get_train_generator(df = train_set,\n",
    "                                      image_dir = None, \n",
    "                                      x_col = \"FilePath\",\n",
    "                                      y_cols = labels, \n",
    "                                      batch_size=BATCH_SIZE,\n",
    "                                      target_w = IMAGE_SIZE[0], \n",
    "                                      target_h = IMAGE_SIZE[1] \n",
    "                                      )\n",
    "\n",
    "valid_generator, test_generator= get_test_and_valid_generator(valid_df = valid_set, \n",
    "                                                              test_df = test_set, \n",
    "                                                              train_df = train_set,\n",
    "                                                              image_dir = None, \n",
    "                                                              x_col = \"FilePath\", \n",
    "                                                              y_cols = labels,\n",
    "                                                              batch_size = BATCH_SIZE,\n",
    "                                                              target_w = IMAGE_SIZE[0], \n",
    "                                                              target_h = IMAGE_SIZE[1])\n"
   ]
  },
  {
   "cell_type": "code",
   "execution_count": 228,
   "metadata": {},
   "outputs": [],
   "source": [
    "keras.backend.clear_session()"
   ]
  },
  {
   "cell_type": "code",
   "execution_count": 12,
   "metadata": {},
   "outputs": [],
   "source": [
    "from tensorflow.keras import datasets, layers, models\n",
    "from tensorflow.keras.layers import Dropout\n",
    "\n",
    "\n",
    "model = models.Sequential()\n",
    "model.add(layers.Conv2D(64, (3, 3), activation='relu', input_shape=(128, 128, 3),padding=\"same\"))\n",
    "model.add(layers.MaxPooling2D((2, 2)))\n",
    "model.add(layers.Conv2D(64,(3, 3), activation='relu'))\n",
    "model.add(layers.MaxPooling2D((2, 2)))\n",
    "# model.add(Dropout(0.2))\n"
   ]
  },
  {
   "cell_type": "code",
   "execution_count": 13,
   "metadata": {},
   "outputs": [
    {
     "name": "stdout",
     "output_type": "stream",
     "text": [
      "Model: \"sequential\"\n",
      "_________________________________________________________________\n",
      "Layer (type)                 Output Shape              Param #   \n",
      "=================================================================\n",
      "conv2d (Conv2D)              (None, 128, 128, 64)      1792      \n",
      "_________________________________________________________________\n",
      "max_pooling2d (MaxPooling2D) (None, 64, 64, 64)        0         \n",
      "_________________________________________________________________\n",
      "conv2d_1 (Conv2D)            (None, 62, 62, 64)        36928     \n",
      "_________________________________________________________________\n",
      "max_pooling2d_1 (MaxPooling2 (None, 31, 31, 64)        0         \n",
      "=================================================================\n",
      "Total params: 38,720\n",
      "Trainable params: 38,720\n",
      "Non-trainable params: 0\n",
      "_________________________________________________________________\n"
     ]
    }
   ],
   "source": [
    "model.summary()"
   ]
  },
  {
   "cell_type": "code",
   "execution_count": 14,
   "metadata": {},
   "outputs": [],
   "source": [
    "model.add(layers.Flatten())\n",
    "model.add(layers.Dense(64, activation='relu'))\n",
    "model.add(Dropout(0.2))\n",
    "model.add(layers.Dense(32, activation='relu'))\n",
    "model.add(Dropout(0.2))\n",
    "model.add(layers.Dense(14))"
   ]
  },
  {
   "cell_type": "code",
   "execution_count": 15,
   "metadata": {},
   "outputs": [
    {
     "name": "stdout",
     "output_type": "stream",
     "text": [
      "Model: \"sequential\"\n",
      "_________________________________________________________________\n",
      "Layer (type)                 Output Shape              Param #   \n",
      "=================================================================\n",
      "conv2d (Conv2D)              (None, 128, 128, 64)      1792      \n",
      "_________________________________________________________________\n",
      "max_pooling2d (MaxPooling2D) (None, 64, 64, 64)        0         \n",
      "_________________________________________________________________\n",
      "conv2d_1 (Conv2D)            (None, 62, 62, 64)        36928     \n",
      "_________________________________________________________________\n",
      "max_pooling2d_1 (MaxPooling2 (None, 31, 31, 64)        0         \n",
      "_________________________________________________________________\n",
      "flatten (Flatten)            (None, 61504)             0         \n",
      "_________________________________________________________________\n",
      "dense (Dense)                (None, 64)                3936320   \n",
      "_________________________________________________________________\n",
      "dropout (Dropout)            (None, 64)                0         \n",
      "_________________________________________________________________\n",
      "dense_1 (Dense)              (None, 32)                2080      \n",
      "_________________________________________________________________\n",
      "dropout_1 (Dropout)          (None, 32)                0         \n",
      "_________________________________________________________________\n",
      "dense_2 (Dense)              (None, 14)                462       \n",
      "=================================================================\n",
      "Total params: 3,977,582\n",
      "Trainable params: 3,977,582\n",
      "Non-trainable params: 0\n",
      "_________________________________________________________________\n"
     ]
    }
   ],
   "source": [
    "model.summary()"
   ]
  },
  {
   "cell_type": "code",
   "execution_count": 17,
   "metadata": {},
   "outputs": [],
   "source": [
    "# lr_schedule = tf.keras.callbacks.LearningRateScheduler(lrfn, verbose=True)\n",
    "from tensorflow.keras.callbacks import  LearningRateScheduler, EarlyStopping\n",
    "from tensorflow.keras import callbacks"
   ]
  },
  {
   "cell_type": "code",
   "execution_count": 18,
   "metadata": {},
   "outputs": [
    {
     "name": "stdout",
     "output_type": "stream",
     "text": [
      "Epoch 1/12\n",
      "  1/337 [..............................] - ETA: 0s - loss: 5.3066 - accuracy: 0.0000e+00WARNING:tensorflow:Callbacks method `on_train_batch_end` is slow compared to the batch time (batch time: 0.0000s vs `on_train_batch_end` time: 0.0313s). Check your callbacks.\n",
      "337/337 [==============================] - 442s 1s/step - loss: 5.9609 - accuracy: 0.0338 - val_loss: 5.4236 - val_accuracy: 0.0208\n",
      "Epoch 2/12\n",
      "337/337 [==============================] - 405s 1s/step - loss: 5.8315 - accuracy: 0.0363 - val_loss: 6.6115 - val_accuracy: 0.0208\n",
      "Epoch 3/12\n",
      "337/337 [==============================] - 401s 1s/step - loss: 5.9735 - accuracy: 0.0631 - val_loss: 6.6071 - val_accuracy: 0.0440\n",
      "Epoch 4/12\n",
      "337/337 [==============================] - 404s 1s/step - loss: 6.0220 - accuracy: 0.0544 - val_loss: 5.4206 - val_accuracy: 0.0440\n",
      "Epoch 5/12\n",
      "337/337 [==============================] - 406s 1s/step - loss: 5.7974 - accuracy: 0.0595 - val_loss: 6.6066 - val_accuracy: 0.0440\n",
      "Epoch 6/12\n",
      "337/337 [==============================] - 406s 1s/step - loss: 5.7992 - accuracy: 0.0674 - val_loss: 6.6066 - val_accuracy: 0.0440\n",
      "Epoch 7/12\n",
      "337/337 [==============================] - 391s 1s/step - loss: 5.8290 - accuracy: 0.0604 - val_loss: 5.4236 - val_accuracy: 0.0440\n",
      "Epoch 8/12\n",
      "337/337 [==============================] - 392s 1s/step - loss: 6.0784 - accuracy: 0.0924 - val_loss: 6.8372 - val_accuracy: 0.1394\n",
      "Epoch 9/12\n",
      "337/337 [==============================] - 395s 1s/step - loss: 6.4617 - accuracy: 0.1166 - val_loss: 6.8372 - val_accuracy: 0.1394\n",
      "Epoch 10/12\n",
      "337/337 [==============================] - 412s 1s/step - loss: 6.3176 - accuracy: 0.1176 - val_loss: 6.8372 - val_accuracy: 0.1394\n",
      "Epoch 11/12\n",
      "337/337 [==============================] - 392s 1s/step - loss: 6.4604 - accuracy: 0.1284 - val_loss: 6.8372 - val_accuracy: 0.1394\n",
      "Epoch 12/12\n",
      "337/337 [==============================] - 389s 1s/step - loss: 6.3698 - accuracy: 0.1278 - val_loss: 6.8372 - val_accuracy: 0.1394\n"
     ]
    }
   ],
   "source": [
    "optimizer = keras.optimizers.Adam(lr=0.01)\n",
    "model.compile(optimizer=optimizer,\n",
    "#               loss=tf.keras.losses.SparseCategoricalCrossentropy(from_logits=True),\n",
    "              loss='categorical_crossentropy',\n",
    "              metrics=['accuracy'])\n",
    "\n",
    "history = model.fit(train_generator, epochs=12,\n",
    "                    callbacks = callbacks.EarlyStopping(monitor = 'val_accuracy',\n",
    "                                        patience = 5,\n",
    "                                        \n",
    "                                        mode = 'max'),\n",
    "                    validation_data=valid_generator)"
   ]
  },
  {
   "cell_type": "code",
   "execution_count": 19,
   "metadata": {},
   "outputs": [
    {
     "data": {
      "image/png": "[encoded data removed]",
      "text/plain": [
       "<Figure size 432x288 with 1 Axes>"
      ]
     },
     "metadata": {
      "needs_background": "light"
     },
     "output_type": "display_data"
    }
   ],
   "source": [
    "import matplotlib.pyplot as plt\n",
    "\n",
    "plt.plot(history.history['accuracy'], label='accuracy')\n",
    "plt.plot(history.history['val_accuracy'], label = 'val_accuracy')\n",
    "plt.xlabel('Epoch')\n",
    "plt.ylabel('Accuracy')\n",
    "plt.ylim([0.0, .65])\n",
    "plt.legend(loc='lower right')\n",
    "plt.tight_layout()"
   ]
  },
  {
   "cell_type": "code",
   "execution_count": 20,
   "metadata": {},
   "outputs": [
    {
     "name": "stdout",
     "output_type": "stream",
     "text": [
      "106/106 - 180s - loss: 6.5522 - accuracy: 0.1359\n"
     ]
    }
   ],
   "source": [
    "test_loss, test_acc = model.evaluate(test_generator, verbose=2)"
   ]
  },
  {
   "cell_type": "code",
   "execution_count": 21,
   "metadata": {},
   "outputs": [
    {
     "name": "stdout",
     "output_type": "stream",
     "text": [
      "Test accuracy:  0.13585017621517181  Test loss:  6.552168846130371\n"
     ]
    }
   ],
   "source": [
    "print(\"Test accuracy: \",test_acc,\" Test loss: \",test_loss)"
   ]
  },
  {
   "cell_type": "code",
   "execution_count": null,
   "metadata": {},
   "outputs": [],
   "source": []
  }
 ],
 "metadata": {
  "kernelspec": {
   "display_name": "Python 3",
   "language": "python",
   "name": "python3"
  },
  "language_info": {
   "codemirror_mode": {
    "name": "ipython",
    "version": 3
   },
   "file_extension": ".py",
   "mimetype": "text/x-python",
   "name": "python",
   "nbconvert_exporter": "python",
   "pygments_lexer": "ipython3",
   "version": "3.8.3"
  }
 },
 "nbformat": 4,
 "nbformat_minor": 4
}
