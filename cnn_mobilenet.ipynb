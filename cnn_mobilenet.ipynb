{
 "cells": [
  {
   "cell_type": "markdown",
   "metadata": {
    "_cell_guid": "48690bfa-2cc7-4bfb-b9f6-86a3a6ca8771",
    "_uuid": "951ea9885b61b9d6cca6ee5de27ff3a8f833b19a"
   },
   "source": [
    "CNN mobileNet"
   ]
  },
  {
   "cell_type": "code",
   "execution_count": 18,
   "metadata": {
    "_cell_guid": "18116713-2ec5-4f03-b4fe-5940a3fb1316",
    "_uuid": "fc4bb5b2cc346110eea2d8e8ed1c2f692b447f20"
   },
   "outputs": [],
   "source": [
    "import numpy as np # linear algebra\n",
    "import pandas as pd # data processing, CSV file I/O (e.g. pd.read_csv)\n",
    "import os\n",
    "from glob import glob\n",
    "%matplotlib inline\n",
    "import matplotlib.pyplot as plt\n",
    "import h5py\n",
    "from keras.utils.io_utils import HDF5Matrix\n",
    "from tensorflow import keras"
   ]
  },
  {
   "cell_type": "markdown",
   "metadata": {},
   "source": [
    "Show the dataset and different field we can work with"
   ]
  },
  {
   "cell_type": "code",
   "execution_count": 24,
   "metadata": {},
   "outputs": [
    {
     "name": "stdout",
     "output_type": "stream",
     "text": [
      "Atelectasis (18000,) float64\n",
      "Cardiomegaly (18000,) float64\n",
      "Consolidation (18000,) float64\n",
      "Edema (18000,) float64\n",
      "Effusion (18000,) float64\n",
      "Emphysema (18000,) float64\n",
      "Fibrosis (18000,) float64\n",
      "Finding Labels (18000,) |S100\n",
      "Follow-up # (18000,) int64\n",
      "Hernia (18000,) float64\n",
      "Image Index (18000,) |S16\n",
      "Infiltration (18000,) float64\n",
      "Mass (18000,) float64\n",
      "Nodule (18000,) float64\n",
      "OriginalImageHeight (18000,) int64\n",
      "OriginalImagePixelSpacing_x (18000,) float64\n",
      "OriginalImagePixelSpacing_y (18000,) float64\n",
      "OriginalImageWidth (18000,) int64\n",
      "Patient Age (18000,) int64\n",
      "Patient Gender (18000,) |S1\n",
      "Patient ID (18000,) int64\n",
      "Pleural_Thickening (18000,) float64\n",
      "Pneumonia (18000,) float64\n",
      "Pneumothorax (18000,) float64\n",
      "View Position (18000,) |S2\n",
      "images (18000, 128, 128, 1) uint8\n",
      "path (18000,) |S43\n",
      "Disease Vec: (18000, 14)\n"
     ]
    }
   ],
   "source": [
    "h5_path = 'E:/_DOWNLOADED/chest.h5'\n",
    "disease_vec_labels = ['Atelectasis','Cardiomegaly','Consolidation','Edema','Effusion','Emphysema','Fibrosis',\n",
    " 'Hernia','Infiltration','Mass','Nodule','Pleural_Thickening','Pneumonia','Pneumothorax']\n",
    "disease_vec = []\n",
    "with h5py.File(h5_path, 'r') as h5_data:\n",
    "    all_fields = list(h5_data.keys())\n",
    "    for c_key in all_fields:\n",
    "        print(c_key, h5_data[c_key].shape, h5_data[c_key].dtype)\n",
    "    for c_key in disease_vec_labels:\n",
    "        disease_vec += [h5_data[c_key][:]]\n",
    "disease_vec = np.stack(disease_vec,1)\n",
    "print('Disease Vec:', disease_vec.shape)"
   ]
  },
  {
   "cell_type": "code",
   "execution_count": 25,
   "metadata": {},
   "outputs": [
    {
     "name": "stdout",
     "output_type": "stream",
     "text": [
      "Train Shape (9000, 128, 128, 1) test shape (9000, 128, 128, 1)\n"
     ]
    }
   ],
   "source": [
    "img_ds = HDF5Matrix(h5_path, 'images')\n",
    "split_idx = img_ds.shape[0]//2\n",
    "train_ds = HDF5Matrix(h5_path, 'images', end = split_idx)\n",
    "test_ds = HDF5Matrix(h5_path, 'images', start = split_idx)\n",
    "train_dvec = disease_vec[0:split_idx]\n",
    "test_dvec = disease_vec[split_idx:]\n",
    "print('Train Shape', train_ds.shape, 'test shape', test_ds.shape)"
   ]
  },
  {
   "cell_type": "code",
   "execution_count": 26,
   "metadata": {},
   "outputs": [],
   "source": [
    "keras.backend.clear_session()"
   ]
  },
  {
   "cell_type": "code",
   "execution_count": 27,
   "metadata": {},
   "outputs": [
    {
     "name": "stdout",
     "output_type": "stream",
     "text": [
      "Model: \"sequential\"\n",
      "_________________________________________________________________\n",
      "Layer (type)                 Output Shape              Param #   \n",
      "=================================================================\n",
      "average_pooling2d (AveragePo (None, 64, 64, 1)         0         \n",
      "_________________________________________________________________\n",
      "batch_normalization (BatchNo (None, 64, 64, 1)         4         \n",
      "_________________________________________________________________\n",
      "mobilenet_1.00_None (Functio (None, None, None, 1024)  3228288   \n",
      "_________________________________________________________________\n",
      "flatten (Flatten)            (None, 4096)              0         \n",
      "_________________________________________________________________\n",
      "dropout (Dropout)            (None, 4096)              0         \n",
      "_________________________________________________________________\n",
      "dense (Dense)                (None, 64)                262208    \n",
      "_________________________________________________________________\n",
      "dense_1 (Dense)              (None, 14)                910       \n",
      "=================================================================\n",
      "Total params: 3,491,410\n",
      "Trainable params: 3,469,520\n",
      "Non-trainable params: 21,890\n",
      "_________________________________________________________________\n"
     ]
    }
   ],
   "source": [
    "from tensorflow.keras.applications.mobilenet import MobileNet\n",
    "from tensorflow.keras.models import Sequential\n",
    "from tensorflow.keras.layers import Flatten, Dense, Dropout, BatchNormalization, AveragePooling2D\n",
    "raw_model = MobileNet(input_shape=(None, None, 1), include_top = False, weights = None)\n",
    "full_model = Sequential()\n",
    "full_model.add(AveragePooling2D((2,2), input_shape = img_ds.shape[1:]))\n",
    "full_model.add(BatchNormalization())\n",
    "full_model.add(raw_model)\n",
    "full_model.add(Flatten())\n",
    "full_model.add(Dropout(0.5))\n",
    "full_model.add(Dense(64))\n",
    "full_model.add(Dense(disease_vec.shape[1], activation = 'relu'))\n",
    "full_model.compile(optimizer = 'adam', loss = 'binary_crossentropy', metrics = ['acc'])\n",
    "full_model.summary()"
   ]
  },
  {
   "cell_type": "code",
   "execution_count": 28,
   "metadata": {},
   "outputs": [],
   "source": [
    "from tensorflow.keras.callbacks import ModelCheckpoint, LearningRateScheduler, EarlyStopping, ReduceLROnPlateau\n",
    "file_path=\"E:/_DOWNLOADED/bestw_original.hdf5\"\n",
    "checkpoint = ModelCheckpoint(file_path, monitor='val_acc', verbose=2, save_best_only=True, mode='max')\n",
    "early = EarlyStopping(monitor=\"val_acc\", mode=\"max\", patience=5)\n",
    "callbacks_list = [checkpoint, early] #early"
   ]
  },
  {
   "cell_type": "code",
   "execution_count": 29,
   "metadata": {},
   "outputs": [
    {
     "name": "stdout",
     "output_type": "stream",
     "text": [
      "WARNING:tensorflow:Keras is training/fitting/evaluating on array-like data. Keras may not be optimized for this format, so if your input data format is supported by TensorFlow I/O (https://github.com/tensorflow/io) we recommend using that to load a Dataset instead.\n",
      "Epoch 1/10\n",
      "281/282 [============================>.] - ETA: 0s - loss: 1.9958 - acc: 0.3313WARNING:tensorflow:Keras is training/fitting/evaluating on array-like data. Keras may not be optimized for this format, so if your input data format is supported by TensorFlow I/O (https://github.com/tensorflow/io) we recommend using that to load a Dataset instead.\n",
      "\n",
      "Epoch 00001: val_acc improved from -inf to 0.31989, saving model to E:/_DOWNLOADED\\bestw_original.hdf5\n",
      "282/282 [==============================] - 5s 19ms/step - loss: 1.9958 - acc: 0.3309 - val_loss: 1.7984 - val_acc: 0.3199\n",
      "Epoch 2/10\n",
      "280/282 [============================>.] - ETA: 0s - loss: 1.9777 - acc: 0.3365\n",
      "Epoch 00002: val_acc did not improve from 0.31989\n",
      "282/282 [==============================] - 5s 17ms/step - loss: 1.9773 - acc: 0.3366 - val_loss: 1.7984 - val_acc: 0.3199\n",
      "Epoch 3/10\n",
      "281/282 [============================>.] - ETA: 0s - loss: 1.9771 - acc: 0.3364\n",
      "Epoch 00003: val_acc did not improve from 0.31989\n",
      "282/282 [==============================] - 5s 17ms/step - loss: 1.9773 - acc: 0.3366 - val_loss: 1.7984 - val_acc: 0.3199\n",
      "Epoch 4/10\n",
      "282/282 [==============================] - ETA: 0s - loss: 1.9773 - acc: 0.3366\n",
      "Epoch 00004: val_acc did not improve from 0.31989\n",
      "282/282 [==============================] - 5s 17ms/step - loss: 1.9773 - acc: 0.3366 - val_loss: 1.7984 - val_acc: 0.3199\n",
      "Epoch 5/10\n",
      "280/282 [============================>.] - ETA: 0s - loss: 1.9773 - acc: 0.3371\n",
      "Epoch 00005: val_acc did not improve from 0.31989\n",
      "282/282 [==============================] - 5s 17ms/step - loss: 1.9773 - acc: 0.3366 - val_loss: 1.7984 - val_acc: 0.3199\n",
      "Epoch 6/10\n",
      "278/282 [============================>.] - ETA: 0s - loss: 1.9741 - acc: 0.3361\n",
      "Epoch 00006: val_acc did not improve from 0.31989\n",
      "282/282 [==============================] - 5s 17ms/step - loss: 1.9773 - acc: 0.3366 - val_loss: 1.7984 - val_acc: 0.3199\n"
     ]
    }
   ],
   "source": [
    "history = full_model.fit(train_ds, train_dvec, \n",
    "               validation_data = (test_ds, test_dvec),\n",
    "               epochs=10, \n",
    "               verbose = True,\n",
    "              shuffle = 'batch',\n",
    "              callbacks = callbacks_list)"
   ]
  },
  {
   "cell_type": "code",
   "execution_count": 72,
   "metadata": {},
   "outputs": [],
   "source": []
  },
  {
   "cell_type": "code",
   "execution_count": 31,
   "metadata": {},
   "outputs": [
    {
     "data": {
      "image/png": "[encoded data removed]",
      "text/plain": [
       "<Figure size 432x288 with 1 Axes>"
      ]
     },
     "metadata": {
      "needs_background": "light"
     },
     "output_type": "display_data"
    }
   ],
   "source": [
    "\n",
    "\n",
    "plt.plot(history.history['acc'], label='accuracy')\n",
    "plt.plot(history.history['val_acc'], label = 'val_accuracy')\n",
    "plt.xlabel('Epoch')\n",
    "plt.ylabel('Accuracy')\n",
    "# plt.ylim([0.5, 1])\n",
    "plt.legend(loc='lower right')\n",
    "\n",
    "plt.tight_layout()\n"
   ]
  },
  {
   "cell_type": "code",
   "execution_count": 32,
   "metadata": {},
   "outputs": [
    {
     "name": "stdout",
     "output_type": "stream",
     "text": [
      "WARNING:tensorflow:Keras is training/fitting/evaluating on array-like data. Keras may not be optimized for this format, so if your input data format is supported by TensorFlow I/O (https://github.com/tensorflow/io) we recommend using that to load a Dataset instead.\n",
      "282/282 - 1s - loss: 1.7984 - acc: 0.3199\n",
      "Test accuracy:  0.3198888897895813  Test loss:  1.7983527183532715\n"
     ]
    }
   ],
   "source": [
    "test_loss, test_acc = full_model.evaluate(test_ds, test_dvec, verbose=2)\n",
    "print(\"Test accuracy: \",test_acc,\" Test loss: \",test_loss)"
   ]
  },
  {
   "cell_type": "code",
   "execution_count": null,
   "metadata": {},
   "outputs": [],
   "source": []
  }
 ],
 "metadata": {
  "kernelspec": {
   "display_name": "Python 3",
   "language": "python",
   "name": "python3"
  },
  "language_info": {
   "codemirror_mode": {
    "name": "ipython",
    "version": 3
   },
   "file_extension": ".py",
   "mimetype": "text/x-python",
   "name": "python",
   "nbconvert_exporter": "python",
   "pygments_lexer": "ipython3",
   "version": "3.8.3"
  }
 },
 "nbformat": 4,
 "nbformat_minor": 4
}
